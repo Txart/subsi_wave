{
  "nbformat": 4,
  "nbformat_minor": 5,
  "metadata": {
    "kernelspec": {
      "display_name": "Python 3",
      "language": "python",
      "name": "python3"
    },
    "language_info": {
      "codemirror_mode": {
        "name": "ipython",
        "version": 3
      },
      "file_extension": ".py",
      "mimetype": "text/x-python",
      "name": "python",
      "nbconvert_exporter": "python",
      "pygments_lexer": "ipython3",
      "version": "3.6.11"
    },
    "colab": {
      "name": "subsi_wave.ipynb",
      "provenance": [],
      "collapsed_sections": []
    }
  },
  "cells": [
    {
      "cell_type": "code",
      "metadata": {
        "id": "0a0e108c"
      },
      "source": [
        "import numpy as np\n",
        "import matplotlib.pyplot as plt\n",
        "from tqdm import tqdm\n",
        "from numba import njit"
      ],
      "id": "0a0e108c",
      "execution_count": 2,
      "outputs": []
    },
    {
      "cell_type": "markdown",
      "metadata": {
        "id": "tzCYoGLIfh6v"
      },
      "source": [
        "# Maths"
      ],
      "id": "tzCYoGLIfh6v"
    },
    {
      "cell_type": "markdown",
      "metadata": {
        "id": "bo8gUNbkbQxh"
      },
      "source": [
        "The PDE describing peat surface elevation over time is\n",
        "\n",
        "$$\n",
        "\\frac{\\partial^2 u}{\\partial t^2} + \\alpha \\frac{\\partial u}{\\partial t} = \\frac{αT}{S_y}\\nabla^2 p + \\frac{α}{S_y}(P-ET),\n",
        "$$\n",
        "where $α$ is the peat accumulation or subsidence rate, and it comes from\n",
        "\n",
        "$$\n",
        "p_t = a_p - α ζ\n",
        "$$\n",
        "where $ζ$ is water table below homogeneous peat surface, and $a_p$ is constant peat accumulation rate when WTD is at the surface, i.e., $ζ=0$.\n",
        "\n",
        "This PDE is analogous to a wave equation. In 1D:\n",
        "$$\n",
        "\\frac{\\partial^2 u}{\\partial t^2} + b\\frac{\\partial u}{\\partial t} = c^2\\frac{\\partial^2 u}{\\partial x^2} + f_{ext}(x,t),\n",
        "$$\n",
        "where $b$ is the friction term and $f_{ext}$ is an external force that drives the system.\n",
        "\n"
      ],
      "id": "bo8gUNbkbQxh"
    },
    {
      "cell_type": "markdown",
      "metadata": {
        "id": "BfP0UGSYfrDu"
      },
      "source": [
        "# 1D Numerics"
      ],
      "id": "BfP0UGSYfrDu"
    },
    {
      "cell_type": "markdown",
      "metadata": {
        "id": "eHomOEtVf2su"
      },
      "source": [
        "  Very simple numerical scheme for the solution of the wave equation, given by eq. (23) of\n",
        "  http://hplgit.github.io/INF5620/doc/notes/wave-sphinx/main_wave.html"
      ],
      "id": "eHomOEtVf2su"
    },
    {
      "cell_type": "code",
      "metadata": {
        "id": "e1fd8e57"
      },
      "source": [
        "# Parameters\n",
        "dx = 1. # m\n",
        "dt = 10\n",
        "\n",
        "L = 1000 # m string length\n",
        "MAX_NITER = int(5e3)\n",
        "grid_length = int(L/dx)\n",
        "simulated_time = int(dt*MAX_NITER)\n",
        "\n",
        "b = 0.001 # friction term\n",
        "c_squared = 1.0 # coefficient of wave\n",
        "f_ext = 0.000001 * np.ones(shape=grid_length) # external force"
      ],
      "id": "e1fd8e57",
      "execution_count": 3,
      "outputs": []
    },
    {
      "cell_type": "code",
      "metadata": {
        "id": "3946592f"
      },
      "source": [
        "# Numerical scheme\n",
        "\n",
        "# A finite differences matrix\n",
        "fin_diff_matrix = (np.diag(np.ones(shape=grid_length-1), k=-1) +\n",
        "             np.diag(np.ones(shape=grid_length-1), k=+1) -\n",
        "             np.diag(2*np.ones(shape=grid_length))) \n",
        "\n",
        "@njit\n",
        "def run_one_timestep(u, u_old):\n",
        "    return (1/(1 + 0.5*b*dt)*((0.5*b*dt - 1) * u_old +\n",
        "                                2*u +\n",
        "                                c_squared*(fin_diff_matrix @ u) +\n",
        "                                 dt**2 * f_ext\n",
        "                            )\n",
        "           )\n",
        " \n",
        "@njit \n",
        "def run_all_timesteps(u, u_old):\n",
        "    solution = np.zeros(shape=(MAX_NITER, grid_length))\n",
        "    solution[0] = u\n",
        "    for niter in range(1, MAX_NITER):\n",
        "        # Diri BC\n",
        "        u[0] = DIRI_BC_LEFT\n",
        "        u[grid_length-1] = DIRI_BC_RIGHT\n",
        "        \n",
        "        # Set a drainage canal. It's easy: fix p at some level.\n",
        "        if niter > DRAINAGE_NITER:\n",
        "            u[DRAINAGE_POSITION] = 1.\n",
        "        \n",
        "        u_new = run_one_timestep(u, u_old) #solve\n",
        "        solution[niter] = u_new\n",
        "        \n",
        "        u_old = u.copy()\n",
        "        u = u_new.copy()\n",
        "        \n",
        "    return solution  \n"
      ],
      "id": "3946592f",
      "execution_count": 4,
      "outputs": []
    },
    {
      "cell_type": "code",
      "metadata": {
        "id": "85e0cfc9"
      },
      "source": [
        "# %% Solve\n",
        "# Initial condition\n",
        "u = np.zeros(shape=grid_length)\n",
        "# Triangular\n",
        "# u[:int(grid_length/2)] = np.linspace(start=0, stop=1., num=int(grid_length/2))\n",
        "# u[int(grid_length/2):] = np.linspace(start=1., stop=0., num=int(grid_length/2))\n",
        "                                      \n",
        "# Diri BC\n",
        "DIRI_BC_LEFT = 0\n",
        "DIRI_BC_RIGHT = 0\n",
        "# Diri BC at initial conditions\n",
        "u[0] = DIRI_BC_LEFT\n",
        "u[grid_length-1] = DIRI_BC_RIGHT\n",
        "u_old = u.copy()\n",
        "\n",
        "# Drainage\n",
        "DRAINAGE_NITER = 300 # when to dig a ditch\n",
        "DRAINAGE_POSITION = int(grid_length/4)\n",
        "\n",
        "solution = run_all_timesteps(u, u_old) # This is the solution"
      ],
      "id": "85e0cfc9",
      "execution_count": 5,
      "outputs": []
    },
    {
      "cell_type": "markdown",
      "metadata": {
        "id": "XP83QyKYgINk"
      },
      "source": [
        "# 1D Plots and animation"
      ],
      "id": "XP83QyKYgINk"
    },
    {
      "cell_type": "code",
      "metadata": {
        "colab": {
          "base_uri": "https://localhost:8080/",
          "height": 281
        },
        "id": "16aa53ca",
        "outputId": "c1bf6551-7ae2-4a7d-a17d-527b23abcd45"
      },
      "source": [
        "%matplotlib inline\n",
        "# %% Plot\n",
        "plt.figure()\n",
        "plt.title('Static plot of time evolution')\n",
        "for niter in range(0, MAX_NITER):\n",
        "    if niter==0:\n",
        "        plt.plot(solution[0], color='brown', alpha=1.0)\n",
        "    if niter%int(MAX_NITER/100) == 0:  \n",
        "        plt.plot(solution[niter], color='brown', alpha=0.2)\n",
        "\n"
      ],
      "id": "16aa53ca",
      "execution_count": 6,
      "outputs": [
        {
          "output_type": "display_data",
          "data": {
            "image/png": "[encoded data removed]",
            "text/plain": [
              "<Figure size 432x288 with 1 Axes>"
            ]
          },
          "metadata": {
            "needs_background": "light"
          }
        }
      ]
    },
    {
      "cell_type": "code",
      "metadata": {
        "colab": {
          "base_uri": "https://localhost:8080/",
          "height": 561
        },
        "id": "T_oxUmh9Zfzc",
        "outputId": "7ab0828e-274a-4005-fc53-d84a0b7a24d5"
      },
      "source": [
        "# %% Animate\n",
        "from matplotlib.animation import FuncAnimation\n",
        "\n",
        "INTERVAL = 100 # Interval to sample plotting times from solution. If = 1, all times are plotted\n",
        "animation_solution = solution[::INTERVAL]\n",
        "animation_niter = animation_solution.shape[0]\n",
        "\n",
        "# initializing a figure in \n",
        "# which the graph will be plotted\n",
        "fig = plt.figure() \n",
        "   \n",
        "# marking the x-axis and y-axis\n",
        "axis = plt.axes(xlim =(0, 1000), \n",
        "                ylim =(0, 12)) \n",
        "  \n",
        "# initializing a line variable\n",
        "line, = axis.plot([], [], lw = 2, alpha=0.7, color='brown') \n",
        "\n",
        "def init(): \n",
        "    line.set_data([], [])\n",
        "    return line,\n",
        "\n",
        "def animate(i):\n",
        "    x = np.linspace(0, L, num=grid_length)\n",
        "\n",
        "    line.set_data(x, animation_solution[i])\n",
        "      \n",
        "    return line,\n",
        "\n",
        "   \n",
        "anim = FuncAnimation(fig, animate, init_func = init,\n",
        "                     frames = animation_niter, interval = 100, blit = True)\n",
        "\n",
        "from IPython.display import HTML\n",
        "HTML(anim.to_html5_video())\n",
        "    \n",
        "#anim.save(r'C:\\Users\\03125327\\github\\subsi_wave\\peatland.mp4', \n",
        "#          writer = 'ffmpeg', fps = 30)"
      ],
      "id": "T_oxUmh9Zfzc",
      "execution_count": 7,
      "outputs": [
        {
          "output_type": "execute_result",
          "data": {
            "text/html": [
              "<video width=\"432\" height=\"288\" controls autoplay loop>\n",
              "  <source type=\"video/mp4\" src=\"data:video/mp4;base64,AAAAHGZ0eXBNNFYgAAACAGlzb21pc28yYXZjMQAAAAhmcmVlAAA5Rm1kYXQAAAKuBgX//6rcRem9\n",
              "5tlIt5Ys2CDZI+7veDI2NCAtIGNvcmUgMTUyIHIyODU0IGU5YTU5MDMgLSBILjI2NC9NUEVHLTQg\n",
              "QVZDIGNvZGVjIC0gQ29weWxlZnQgMjAwMy0yMDE3IC0gaHR0cDovL3d3dy52aWRlb2xhbi5vcmcv\n",
              "eDI2NC5odG1sIC0gb3B0aW9uczogY2FiYWM9MSByZWY9MyBkZWJsb2NrPTE6MDowIGFuYWx5c2U9\n",
              "MHgzOjB4MTEzIG1lPWhleCBzdWJtZT03IHBzeT0xIHBzeV9yZD0xLjAwOjAuMDAgbWl4ZWRfcmVm\n",
              "PTEgbWVfcmFuZ2U9MTYgY2hyb21hX21lPTEgdHJlbGxpcz0xIDh4OGRjdD0xIGNxbT0wIGRlYWR6\n",
              "b25lPTIxLDExIGZhc3RfcHNraXA9MSBjaHJvbWFfcXBfb2Zmc2V0PS0yIHRocmVhZHM9MyBsb29r\n",
              "YWhlYWRfdGhyZWFkcz0xIHNsaWNlZF90aHJlYWRzPTAgbnI9MCBkZWNpbWF0ZT0xIGludGVybGFj\n",
              "ZWQ9MCBibHVyYXlfY29tcGF0PTAgY29uc3RyYWluZWRfaW50cmE9MCBiZnJhbWVzPTMgYl9weXJh\n",
              "bWlkPTIgYl9hZGFwdD0xIGJfYmlhcz0wIGRpcmVjdD0xIHdlaWdodGI9MSBvcGVuX2dvcD0wIHdl\n",
              "aWdodHA9MiBrZXlpbnQ9MjUwIGtleWludF9taW49MTAgc2NlbmVjdXQ9NDAgaW50cmFfcmVmcmVz\n",
              "aD0wIHJjX2xvb2thaGVhZD00MCByYz1jcmYgbWJ0cmVlPTEgY3JmPTIzLjAgcWNvbXA9MC42MCBx\n",
              "cG1pbj0wIHFwbWF4PTY5IHFwc3RlcD00IGlwX3JhdGlvPTEuNDAgYXE9MToxLjAwAIAAAAfzZYiE\n",
              "AD///vdonwKbWkN6gOSVxSXbT4H/q2dwfI/pAwAAAwAArq0zP7hJu+IGGFe/Zfh0zqtY1NeIl+nV\n",
              "JKfNH4TWwtS1aoywQ37C31/tRQCnQzRV0yvu1zHlEXCwlgACasEQ9aMisd9p6tY60uQzaLbsn2Wq\n",
              "4gflvD754NeWcLKrKv9jA45F+k6lyIN2UwhkUf1Zn6Po9sHKI32QU16gmgRUC7yT+bFYBdiAVsI+\n",
              "zdRaaAqfrh55586YPvqx+/a8RlbC2gBb6hVkK9ikprmOHtdr2C5EVzq067BmPEC8qOdT3pRHHfTO\n",
              "3Mzd9sfJNJqlkvB1YlD5QvnsvmOaS6nZ+RwA56helN2bbMKOloyP7I+p93FNeMwhq6/GSe13L4nu\n",
              "6yfvUJ11+VZP86xg9hly4s9FMofL3aWr7ateEd80K8EjDhL0/sVpXD+CS9v99yVtDcr9qX72j+xx\n",
              "gtRWbC3Fy/lg9bsIG1BEnmoXTLDRZ+Dk42bACZoAIT60lwnkSpuAn1z3cDe90uf6GNKm2qNU9hDf\n",
              "0J6a/G2fGgwAQ+m7AyxFMlHBqbBmiZAbHiEjWDeu1ASuaPgWAZg/c6HYlX2FBIyJNu1XZmbiRhK4\n",
              "8IMYtOqQFSnyGOIWI4I4CvU9CENcKSSCO4EyF/UUN7QMF082bagcSdJmH0nsz3xbXWK17pQEq+Az\n",
              "SpxvCLbY0PcRXxuBo8vrn7w/HRIJTmZGOrkLkKApon6pG4x0fMGJVHajh/krpuHyfvvzO4qAsr4s\n",
              "R+tVIjtsS6diaG22D7tMyuLSvnzOY0UYCkJXYxVOlpNjLaiL7yuVhdgL5kK/5JY0ZTlbDF7BWO02\n",
              "Lo2u6QN0MBvryz7RBUMTl6I5fkoA1VRgfOwSCeHVA09CKsYO3VNoc72SKeGS8eg4Gh/82+LUcGpF\n",
              "qlWWQu/6aLtfzfovigxPaMNMQXVrrEzwaf6WnleTW/luv4tXcBM0VRnfcqhP8vXs9vCKjQgrZGUe\n",
              "ciXc/c2bg2A8/DwHOHeB2gfqT0E1VjvCDx8xu0SdGcXB9pFqiD8vhY62VzRAKwf119j5jCu/cE08\n",
              "pHlFWzsKKM2X+zkFOWEFLVnmFhMfQajxfqHYQApyukiI45wjRLX+4i8ZeLTsgJYbsLuxv4F82h2u\n",
              "MgRTl4vlocktLYYLwRU3cwWmqe2s8E1Qg/RYYLzLHF4sWKPgndM7pyuyAPNMrXICqf/////3C8Vn\n",
              "4mBSeyKg8GB9/6n//L5IK6dV1jGj2fXbW5+CyUPCw4kRQLH/K/Le3OKiGNfz+Nf5JDlzLmKJeczY\n",
              "gKRvbxJBN+ta3R/tZHuwwlh1WbpNANDjyjfvVLLIWfBic2Azc0i5mbd4QDOvFBC11MK+nlREseXp\n",
              "D84GOxqGmvQFtQ12juMZDGPR/VIRq++f9NaAaT/0LEmcfCvHoX4BG7SHNTqna+wvAensQPjxF9it\n",
              "SGmkuAN3Hsvs5lmZ0dIHC+DRZkikknDjugmS+s36OeUMV2QhnBPKvVlT6ncaX7PUP/KUlp79im1N\n",
              "fbEVElsSizxtsEW9GrAOlNvA81vJBI5aQbN2sd8H7ecQYVHu4EvUUJEJbcMePtJJluQPcawXUGhn\n",
              "d8rAof2wfLSI05Mu2/hh2s88leZ5DGr9VHg6N8RJey6cVlS4kj6yHZ3v/74Imimoq/tizAuaJB2q\n",
              "iBre6X7748a9IEBOu4+2uo3wY+EXadtCAkNYvLXtoJPnQ86VFb8SgIbUEBFHPgozfvZfkeJ3OMMU\n",
              "aex4oMpllLj+aXNJM4gnvR1c1jhXAgcpwQSkBBW1cYfk3uXIq9tUgetg9JCmuJVYus7ckpYJxB8N\n",
              "6hCHJyNaHf2S3gYcy+oIDYToxeig24SN4nOyWMzYFsNu3DWkxKWhGOxzve5zs+xFRdFupbGBZEmP\n",
              "oyhtvVy+zDum/s4D6V98gPw/fYqEneh86mKzB7nhR879J6tytk6IoVKFnE1ervvfjJzGQfeg0LFK\n",
              "xDKhEmTK19qkWdWgUqRnqbXpwBWwyxWm3qT2uEuZ+dMOJgWRUwWEytienpPoJr+K8sPIDz1O6ZpR\n",
              "TLbYKFhba0C8NS9e1lmo1AZA9GRjkUEr1i9mgkdW8fvdmRoNNxQPL/ZOL/S74IXJqL9+6syfXLXe\n",
              "UVFjTVBk3Fa14AHqlMGTcPljxox3hWxmcx6T2Mp0f6czYVymmHJpQhLt9r9N40rwt3MAmHsTq6KT\n",
              "gU9bnnJOKDIIPkMHj9taDENQLIXH+Dioglpq7FSsw5ObvmQuRHFRTKXt+2LrcCkL/JxNm3aO66t6\n",
              "U5sXELG9f/m9UTR+kchf7GInTqowF8vFLqJqvSm+ZYJmUIsdX8Owbd/IMc/U4IDtCb4Vb+paRs65\n",
              "v7E26oiVT9ZewbSGgOGNWdD66cGP2H1tXD9BzR9rnnu0EaKlnu4kLbJoJehmCoz62eWWn0FLsJSU\n",
              "nvGDkEpNINkvdpZJI0p0lVHWCqZsS8A7ympuGPfKcEdgkFwBk0ghSnYI+TJLX0DjxtkxvBiOYewh\n",
              "vu4rh/IxMHCW1tM01sW5+qLqBopGiXrCI8vlL7XLsIxJf36np5kNwts34hqv2oNhtoUM5mx71noo\n",
              "1LSOsxwEgGWZPubZzCE4KUBtTcBGer/I7VFx5YzmOxmVnS+ggeFYY3gsE+vaa1nw0ZCAEkpO5vdb\n",
              "/0VyBjfX+UbLmiJ8f5kJx8puE8ukJSN806EMyEt9T50Nq8lEPQAAAVZBmiFsQ//+qZYBFFHOgFEF\n",
              "fD/bVAcPKfyyoVKhIJALoO7RfsDoU0ZV3pYTjGm62/kH6nFZO1ZtCigF2BVs0ZETmeobi6f2kKy0\n",
              "v28Ku8kyJbCCNjJe6BukriCDcxkioOG49YYsNe3pmzVpxk0Pvsi462K1PaRdT2bTVltrTiDihqwV\n",
              "MpMzdKO6D2+elN4Bc7XzCXYBWiz/UWU0S8pG4eriVmDLxZbQMht5fBqe/v/QxfLndjC15A+W7J36\n",
              "c9JEENh7xqZHbF6ZGeOFeDLpNW0LE5+uZJlbzRnqGBHVX9pwuCpISSepYidBaQ4OcB8k3SgiW/xG\n",
              "rNOidWJ4szhjpasKZTj/BUWB1cSrgwkqvzJdXMvNVkXoLEdqFwLeyjEEKaeAVRDRFk1y724w99sf\n",
              "rx22JbZ/mWvu7GJdoBEH/ZcK8L+a/8sq6vyAR567ClrAbr8GpZJmFxQAAAJ2QZpCPCGTKYQ///6p\n",
              "lgAADabP/hA1xABGKBa+9lboxHVMRiuiqraF5Dt5qspREvHil823d6sdX0ECaooCGiPBSxNDB8Bh\n",
              "8UqGEFutVSIs2qsjBqFz+GPOaCuQMVLuxa4Kqg5TGZOWC53+78E1KYq4Z60ANokEmXg0oVmjVaQW\n",
              "M6UDjwCsxzc75NESOit6qst/GeVuh9Zze6EgSLvbNFFPKQ7w0jv7rpxbGQWrSPwlf9r1P2I624jG\n",
              "zyi9LRszPwnTJVRy4jf0glXmh3tjrThLHhuurAyoIizrhB2T7ZKU90juBmHAsDGeU8wLhbRKj+gX\n",
              "8g4dzRpDWTK1pN78Hg1wNIgtFIyGzdWIqlg6GFy20rqUihcS6290nFRPOd2UFXcQ9SsCKIwadmZ9\n",
              "hk6atjAtyeHiSiV+MsgzaMy9kK1EKb4Vm1rzZ/ucsannr3n3MClb3yM4sOY78hdnLhygAAZtROQM\n",
              "AAc4Y6h8QL/gC7LRSni64Sm+X4NAYcjCw03Ueh20jYYIGLdI+osIcUL78+CEfOlru8qFCz6DKRey\n",
              "f+hhs2K1Jpzf/3olb12HdUHx2h4HvavMQ85sgJN435VSEHToGIU2uzhNN07ad6ivCEi1/I/8z2Nt\n",
              "+Peejv5Wb/Q9C9rMm0ZtC65esvrwG9Cl7xr2ASyV6Qt1ZptO6zYiLyNCDZeTJqJ6+5dHcgmjvCMp\n",
              "KWDeo+AjYaxlm/YIhwLQ4630X4/+x/dhnfQsBbmA+D6vN7FFRCRMdgligO2Snf11rT1nHWnN+WLY\n",
              "VtPMkFQJ0WZxr1IQim+ZYO/a05rlxNtfOGrk2qkc9HU74kKZ1wS3r7jUc9pMU3MJAAACbUGaY0nh\n",
              "DyZTAh///qmWAAAaiaaoDG+RK6cBsLDhZ4jpuT03mxouSRIv6+l+xsM4iEh//RHm1zXVrD9dCBUe\n",
              "lUs1vtbnMEXYksOQr5leqkUPdzHcy91KT5VWlxGMZMs80LJXBcHfKG4dCtvehOX16UReHKrEwlcH\n",
              "hXPPN3ZWiMtoUvpKF25criXOWqMGlByvblN09kLJqgJkZmUhEre1iAwCGnjZO27SALC3q/Q110pm\n",
              "/s1HkB4iWcbUu+JtEAfpRaJjVEodTM8ODQ06sGm2YQAtjjUW+p4LR0+scCGZXW/uMuJ6XgGY7pEj\n",
              "JwAMaiH1rD9yDMeHXEgbPRrTOChlcq+EupyWWumET/x5nWeveiHGods/syPOKSoQfQWYqxFVEOql\n",
              "wAKrL0mbjWewdW4vm2K6fbLaQ2uww8X+LXMe4lmzc1qgdDdkPsArDHy2LlRsRaIXfK9/QQ0Ri90s\n",
              "NWKL1lx4knOnOhcDZ4gf+VEnq5kRSIEcBGG4V4Xl5Rp7bF0w4pFpsRQDQD0BAVRhdJrVDRLecu4x\n",
              "1ONQtzbeV34BGgKzNCBFqQsBWBDYzIniCgL1bAhkYCHwrQUBBhD4WAXWjM1jXPe05jngTt+FpFtv\n",
              "reakJXMZam8jMewqjHwB266p14jO/KRoq+cJM7OL7PNuX+cxdjyuS9/uqtWJWPosQ3gbNKVPUnsI\n",
              "eFA6zX8b1X14MhD1Sg1UQWd3bjb5XTQCc0URD1APxMwUwIJ8ci9vv+88yhv1hbcUcJlYNJYJGmwt\n",
              "RWRPK445QMDVSHVgao7wGbqQIxCUg1UGYQCemrJMEFkLFEccdGW8jobVWlpRnAAAA8BBmoRJ4Q8m\n",
              "UwIIf/6qVQAADBbS/kDmGABD9tRHlbPHT84moNoNuwBCgVafpZCOO7prgM2wx++a9rSNUaWYJU3M\n",
              "j36Cd0T/JMa62fBXDMxakmf0bIdXfhsKDgTHmsFoQPVZeslSgoMsONlvoF12p1JNidHRBUbNmfPB\n",
              "XK/ROLx20p8v4N+5Dl9fDHfjwvRey8XEAmq9L49bTPpW51ZqTTq1O8yB0E2UL49HOEFjbBMiLyeJ\n",
              "xZSsSPLMCHPTy9Ts3WpbCj3Xpr18sFx17viOqferNdFL7IzZwB7u4kUHS64XDNo8B48irTAqaB0F\n",
              "JFVUXkvfnk42mQjK0wu5++Fy2DwGEQgPntnTRusG5D1Mm72O/2QS9ks+5dSgkCi4j8rRxWixVT+B\n",
              "f/H+ivtyPpSVOwXpZqKaKwGVOjreRVivGfpMq5o/0Z6oMjL8wa4htyGTaXAje9FIiObZWlE7iBbX\n",
              "pPBkCDp4Md4oBdL8Rk84BIj05WjxyCPF1T8M+N6zNKquxjW3Bbxp9MOYPNlpsdS+Beh1UoPV65ay\n",
              "2TphWdvdWVQ9TPYMmK2ZFjWyjtYKLUKS6G4G5WtB4dX6v8wim4anaA6/SmeuFsKoeFC5ZXmoxBAm\n",
              "D+ZQjQHPRkJsPnm9qHK9JnoB4DOVNLDp1+dN7mWoTFERABCYDdINKTr0B8kWtX765EwuVBFzdhUy\n",
              "qYxP7eNOc2W7kLdFra8ROke//LxK3aNz9zfLk+uCQsMGdThC9rYi0f5vLfYFjMede82ysKMsS8j2\n",
              "6gtLKP/WDzXI7mCNgMpp+APUOmsf7ZaZqLLA4iqLE6ZB4GJLMXYfpPtPsxF+0WcyvhgpUxZAYKua\n",
              "zxy0xY0FJYeQqSPb7+ifgacrYeVr6uAFS4jdHy+UugitX2QJGuiAtFQirE+Em0OyiTiD2U31t8yd\n",
              "nw8fp1YjXgE7VfAsyVwH2QcOlrfi+9ex1FSIQrH70/RG+CJmUbadsQN3RVOeJY3v0MKlOlOc108Z\n",
              "b4k90UJWZsWqPzZXqpj18MRLXDWL6WNhfDxoqPXgvFnXVPPJ2ToH9uGAMQB6/eABOjqSku4TAqsP\n",
              "IFsEWK+yNwwjCuCjtS5fh9QkcmqrRpPEuynxyKeWv0/L8v5YM17rymFeIvBA6lMIgFJu4ksREICK\n",
              "AI/y6T+QmFXF00liRuj3IF0yeKTmIdPJIgnqa6JuGMJxb4RyCV4All3C/MhbpWGPsb2vCK9DauTb\n",
              "FRLlfLiIZF4FxCGTUZ9GsZ5iGN31fArfWWmedP12+ACr1GoJknl2TkEAAAQLQZqlSeEPJlMCCH/+\n",
              "qlUAABeOG/wTuUAbhF0Jd3PxzjvtElSDlxVqKn6K9l6wxqjdMsYlTaQgf3HeStvyF2egXfZUTZWP\n",
              "V8aHpNCbk/Y3FQm4PflY/7U/V4xTeHIJsFpyolFxec2Q1HoclxtNbvlmwKbQiK37UJvaDEytwdot\n",
              "fMlwuUA65eg6RzAt9xJl+N+ExodmWvXF4IKd4PWlYdwxxF1RVjruv3KsQrPUOQxm3H18LnHy1RnP\n",
              "c53PG3bkmzlBAiY1t/aK/9kvqBdj8db3Nkw+Oh/umnCGpZCzWr0L1dDBQ8Fy8eBMNyX45hKHSIcS\n",
              "Hhu2jHb6xAJro5sdrwlmDbmWb9HCB18b6vgMfMJx5ebtXh54kEhaGt+5GDt4PNuPlnc2KvHsBKiD\n",
              "2webjZlNs6meDyA3qPusTEgFy0v31fmvSk/OhruWy52of7w15+Kbzc1gQBRp2XfBVKx7SgwymCba\n",
              "lum2/ohuWiwgvjtd3Izb1O7D3w45U8i/VHkMnH7FcikNAKsEolDT8ALeoUcfnFU6q3lSvWnUhhiD\n",
              "BvfPoo3JRcCHnWgumXhqnRV+n/4Luw+cgCUIuOlPuEQtd2w3He3Ld2STIrSa1BKi+yXLOK+jAiDq\n",
              "cZa1Vv4CInP4H5WTeW2kKOWeEWeKchCBJeWd44ghDSwtMWUshCvGq0TrjsO0ATP4kQcUR3/EoQ3G\n",
              "Hq+mbWK45cRHfdeaL4HuTHNwY/wk+9J9BdR37sKp2HU1G1qWGob0MUEcxWnIqmSHsmko4q77smIH\n",
              "KtSPVLDBufh5zHQWgVkCC/KCIIw+ioBV45BWRq/czHyj3wLh5zTZ+ZTsI8vucp2De72GD9Q8YtV4\n",
              "iR8GkO+9ZTlN/MOFKWtfoIw1c6mUYK0LmdSJTG4AvUNAWAR98buVb8h3eGX1h5td08atKLoqHDhF\n",
              "DhGVHQEMi0Enbh4+itIp46QdqwUhXvzzTecABGoxi5tJ/dTnAORW7IhndtAtuWpyZwNxxgZDFqj6\n",
              "WCeYxxJRF0m26aqugxwbRsbT+ijqxxTQ4a92bsrqv4A0wTcUqOYNOW11mzcNXqdj6BpjOK1Zjkl2\n",
              "BALwJxzcwsY++3oxe3KpMq29g82a+hecQpdOwBa5rISAgRc7HR19B/8kuL86EoGsDiCLGvvtaeqz\n",
              "yycZqDWXZeGB4eNY3lDsXFyARhzWlv6sCTla3iJVOA1KEwwX4Og/Sjcfaidv5gXH7Iy0R2Ra1rEL\n",
              "CvfL9BcxTfeh9E2+zT1wURnYDSAtS7lsUBmytBvExBhStqxXpJwniE/pf/KXsjanWOb4FUpC05PP\n",
              "v1A3ppav4ElOj6TH2NgrlCCaSmr4ir4K8GfcBfWgZ1CF7mjpV3hJcRDOnfdiKhG43R+s/A8JAAAD\n",
              "iEGaxknhDyZTAgh//qpVAAAtvPd3DzAKQ+UZ7znrnAnrvqciOZRIBWK3j4XX8uYuN5nZO+2JeiZA\n",
              "PmwhPFFXVwZpgubN33qo4+KCiNqNI+hI2ZNt7R0Rne+aVmdOhX5Kh6cdCdusHAwe1uWbaEguUCSK\n",
              "mPUkSmNGH/ojfSHyhJMvZ3p6/y1eqbbTR0joF6tjDUMSOGUuWe2QEM1bqMt0OsNFOz8vrsOrLY4o\n",
              "YJNEZTxayLsi73t7Ji7Mdc417laIF0U+IeI0+6iovRPEw8hfwpOtENd00J/tskeSkxDyAd1DjDVG\n",
              "7lmPrAF44oBDpcLUbDeUxrQiTtL5eqFU0XUo8mbhlMXHfiWD7swYV5/QnmXv7J/M+cTDQ4BUXDY8\n",
              "/8LdDbZtlIGS1gkhjsRGzw8vn3gMMi98O+ujRGXoNWCniTKVFlwblZs+Z2D460hW5e8eLoEvob1z\n",
              "VxqmANaO3rGWQ1gdaUaIDLTzmx/ghVwQ1m02361Mj/QbNgyJ9g0bF1FNdJR/dw+JZ+DnLXJYhZpZ\n",
              "SGUSUwryZm7ewaTt5S5nEXOgu+9/2vtfUU9fMxqaGamf7LrOMDUykhfC7G4FtUnWtenSZ+a3khfZ\n",
              "ujtS7Oe5HO7xSruKygvAuoEbgQkzSTJpLtiI573XfKMoC1mf2xyzUifmvB6jlmSOZ/QuyheXM6A/\n",
              "ZisqZs9EVLcZwrVgj5rpaDTtBbKfDSU1GEfVshpYkt57jgSix703C3NDvrpR4SdzJUQnhL/aXMA2\n",
              "IS1bOJGUowTh06DTSsPDm47GAfF0o2U/E3EmyW9PTqXHi61P/eP/JVaJ1nqPvhQ5xgrnvC3hJfqh\n",
              "R2V7HvhWK/tPt+BAHdQ3WYr2Hns10JrEmDx+faOQT2t/aytaSSlc9+7plCOo9zUu6F3W9QbBtFpb\n",
              "QCtQaCN0xDB0JRWN5qaK9t6r73XnQliPSkp3sd1ARv2RHQfq+f10v1O8hUlVrNZXcvZPRgVsn4oP\n",
              "ZKoaHiTTx9b+wAMDxZKokG0fSurQHN11nCFiPzwpDI5YLTTSnQea5wqgULzFthtL5Srb6T1W3rOt\n",
              "ClFh70kwL/wpgKK3NftNw+7aA7+4DL+XB7+P+yhBaVIWXzDqjHVr8oA//HYqNdiSGCv3ZXyWpwRT\n",
              "FzcvMCD7HCjIe67+OJgFayxV5SpVWJpiXSETZAqVwvjk4zvOWRi//Y3bxW2YOZ9+gq8AAANhQZrn\n",
              "SeEPJlMCCP/+tSqAACuY3k5sf9X3D9//WEpAADZydZsaZqLDYMZWmxCscbVfQrryxMMOKBNjM5Mq\n",
              "gVcOwxX6p/cUqzmLLkgOP7ulXfhRA9x1lm04EN4ZjuqSpudxSCOUXxrwU+zgyKPdRGByRe8jqR4D\n",
              "tJGxRuPmcHs2YU4QyKG0b3uHYE3PYvAlEr0wgQ9ISe2zaHAOpsi7n3E/S1NbDpM6LJw/waKXxJr4\n",
              "thtx43OR232YHl/MJrOy0PJW5+diK2hYrPUhKSjTmrBYesTAq7UihhVSSzuxRoGHDvCQ26plSYzE\n",
              "b3WNw/xW38MqTyqRPdGYoyamgUbgB2N8yAoq68uUTOrKK+5YdeT52BB9trhiIj+GdWxLgj2nbcgF\n",
              "NJPMg+ObqcOAAVnWKH5Ialm5Cjo9E5QMeXzy/l5Ffcp3ffZnOe1ripPgaD62jjAMSplsc1QVReBy\n",
              "DPyRvFILzBiSxfJ39FL57HEwWPJXngPF95T+XKGqcZv75ydnCMOIDv6KBJIgMqsl3mKzxb1LxIXq\n",
              "jjEZI1U3eNHkqk88vgJsDatrTT3HEZfL0Lrzqfy1QMou1XhGDjb4rgtuwfM1V4aLZlTpqcKatUU4\n",
              "fKQOl0QytMLq/ub26uu8yLb5PbvbZDTDUaHkDw1F6aTfNeROl0ZPjqiYj7jxqgynUTSVxbMgtYVU\n",
              "4vEfJ+jp1oYR4NP2IaeVfLGPJh+GkHR8TpHBRzC5FEkZxjOXGueFT5+ZSK85kefzs2UciSgrRWTV\n",
              "PTQp+tMQtJf6zfO3m5N857lIR4HNb5Lci6NDmJNQuSdVJ643NnkFQmrEW/MZlXZLJ8vuyH+9XsQD\n",
              "zpe6RODL30nJaCrfMDQqPmK5rOSOobXbgg+h8LyeEh/D6RQquTKqqdjNXwkJp1/S7ZF6vRs3wWwp\n",
              "5gVwf1I6aR/dQkzAEPavX6bqdrM1QBMDGpHEssddkc0/Kz7xZPPjHwwIYc+tP5Re+xvGqzcu1BfB\n",
              "5LuhdyZAK3B9GhZxVvQSwlbHtrLAA5u3wjhWLDdMmoE7X5n32jrVLV07VIHWVouUJSV7wsi0uEur\n",
              "TfYiNjPuYnkWElLfusBvY6PFd+60o9XfySoaJZEeMUtBn6LbIt0rSPNVUs0sLIMc0YIKRGZzAhKJ\n",
              "VlpkiZgUEQAAA+ZBmwpJ4Q8mUwII//61KoAAWUd33UFe5AMnYNkDd5w9sfYO8Tn9tujzhvAGikyP\n",
              "CxnC/cmkw+/CRp7pVLaoswmaEw0vlo4T/Pgg4vfQIirpuAHVZ3Sr7Z/AAeOFZjxXUM9IIShkFIdV\n",
              "hlrzINAm/1ALMFpaEMv1qbRSQN1bFuLCOoto0oBIrm/sqFVrI8CgjGrc8IRjD/rVJnfHJPVdGWz/\n",
              "LLxV8ZegXnkQPzIC3DRQPIxqZdEVIn4G8UcfHHWbkv8cTcaZD2Kyf68fSiHtf4+5j49+/UWODDlf\n",
              "DOJA+UCKJA6y+TjkqvDS7Qs+hX/vmKREX3BrCPAfHW9qbN8kyYc0P7LV9C9JqQZBgLLufQgsgzHy\n",
              "O9aNWhHuRthp2kmGIXsfmtsrrpNNjRga+6gQtw8D5pF9kEYf1GRe4BWrLzMaUAbWBfrPBv07oFx0\n",
              "pDgDP5rIu4Ly3jf7SAEMWoRIdSsK1S/1+vkuHyTTId9AzLyMb8x59k9h9gw+xtruQz5bg0lrr8ZU\n",
              "sInCGWm+gdzguZBoXiFYGi5pNjaAQWsHSNmFBB/wfyLqZWY9JGCUSoyDHjahRK7RkFfP4I6BCT41\n",
              "nchcqxC1/WSTiiz5qHzOPkTQzyPAIVbzB5cA/n8958w8JohOG172TTK71wzqi0IWShWuIlh48lLi\n",
              "W7tTxrZlxV3YjY6GyDusIHlPpGzf47ZQCJhvjHv/Eotr1Z9w3H1KTN0605fxq349D8xhjugNesvB\n",
              "ruP3P0J6ckp4aHz/Q2LhFA0rT8rPG4drNkd3F5umDCTlYAAZokR9wblp70lALO8FMoVz81Ryy/UB\n",
              "UcM/g2pRa5CxvllA8M8WBCh0JKjr0m79aKmT/NsbV01iWxpstQOyjmbsAakRIjgxkFx/F1X7fwX9\n",
              "/SWuLpMUmsRZgbgqNBXkDPDd/lwmHS5OWgQIfTEpqCGYFIYpRo+JbBLiX1tLFhuXSnIGl4isn2zH\n",
              "YRPDvNzLz/dnI3KT16rViNTHp4O7Kkp9EciSuKABoWbbOmXuNO3xy+8RD1I5K97UTwlc5D0kNJ7D\n",
              "f8j4+EXgPUw/byxCnxBlii9kH+HRiK0+AtuJQlCPWngTdoGdzycpGRRwanzy4GhKgiphSwI075E5\n",
              "bExtOd15VzXb4SF5p5aRRGvvG/BkmPmIpVYwO8V0iXVJYI7wTa6gu/8ZnJcN0lMbKnSiDcXHBapv\n",
              "rOLJNflgw4ATuW/QLCEA8RYOfc+M5rPltdhizeBXEqhUrIGHfEojs/7I3x1eWkGylX7hsKjYhXv2\n",
              "0w+wNGKk6vj4dW7g/PN1sB9l3KnqbnKoXefSB8m4k7H4ZK+SFiAS8AAAAOhBnyhFETw3/wAB5ihA\n",
              "c56NIcufBgfS74Jdhe4u/B2aeHA1u840058MDrA08/Va1+IASeIYCAfhbdKcu/v90SDiYbfC+r1R\n",
              "HaF4nbbGYAY+7FMJHeRJz/xmDA+TNPAiO+u3vSB2GPDEAkyUkJn1BwjIsMLQzr6qw8HPVy9SAQhJ\n",
              "aZSgDaAAAZZSCyzDRjvB+29B19zgAAA/na9Rgt9f0q7e5wTZQVD8OF/go1i/DNYiDPFF8Bxv0tiM\n",
              "IcSXrfs93YbmVMeyn+V3AYwu6K0YFuPXbskOgl96WDZznhbPdUGvvxrkqviI6YaEAAAA2wGfSWpD\n",
              "fwAB5ig+j38q0TrlKXDQAlm//LIiqBfmw1lPsA7CsRn2DkNWqiqOCNHRfUHfe6pPAgmPU/WJbjfW\n",
              "+Ji2Xj6rVaEwrZItors63wSZpMIJlvHdp6Cq6bP1j/BZPmuax/6RMsAAAAMALetC/XxdtyBjm+Cg\n",
              "IEQLbWGGA+uZvQzESx2/20OeN1mXw2IZngcl4Z5WGaxJFnQ0iyri2wb3/sUpCJZ1PV7WXb44sCX9\n",
              "k9MCw9dd59jHP2hZYgrWjHIELTLURqwOIp3SASCagyvtSJyIGxeg0DgN2QAAA05Bm05JqEFomUwI\n",
              "I//+tSqAAK5s/ab6yAFp2JK5zUoJQIIRYYAKu3BiIgCC2Qrnk6Qf5+mH2xHWJKAD6fcCMfY53sEa\n",
              "gg4Jr31QxxQ9g7uCvTjioK8dgBOx1SNoOZ2rkyDguCJ251DzkOZOdcaeciuZj23Yx2lBND9szynY\n",
              "4TtUZqFRPTuX716a9xddUn6ICrCaPtB1Fvr2E+sMegXXAan/jeAQriMLiWt3rpft1qPTA4lpX3P3\n",
              "fqZofzWzNWsJdn39dM1qEjFE4defiWCxGblSC7C0CUtKw3d+HIl3J3OhiE1dnmam2ra80A6/15QD\n",
              "JjjgmGKP/VXdR0H1Xb+pnPAT1QRRHvnwJMG1X5x6uc39RJNJTY8D6ffJZN2B/Fa6BK61i3HbSBzJ\n",
              "lDWNLiMw2Q4O1xeLrxjzYfmUgmh6IoWOnXNUbmXl+5nIFr6kiLwMFU9ZuZLI2k2WDuHyeS3/ibtd\n",
              "5fR3QGdxtBNgTy7IuFZcyZsaeynndfFajmWkN7hFCnTsFTNDjj3s4kVJlzQ0z3VZ3BtyNHx+MLFB\n",
              "8VTn0aBq1trhFUzmIgMmMgqzYfTTKC31vQzpSftTO167wstbICkKidLlDbxv/Ct4wBGQBq/lTtBh\n",
              "l5WgaWrEQSOgyq/Z9VXJnesSQVhrFlXWygNWnhe/S60CrxKNVZ7vIAAxxOhM2NiFoB8SaA7hi95W\n",
              "CCIZqgmiZvj2gpc2pnM8zueEhFUZTLPXVPQEPo7aDNrUPb7gZwm9V2BtZKq7qr46+s4k/pz/roVw\n",
              "nlJYxHOmAc+MxlUU+46zKE4tEPnTLhHIZl8q6lvRviS5OEXs/oh6D6vizk7pc+9FhmwZJHJGNHEt\n",
              "WDQFRutRnWM/QylhjG9awD97pFylOUFJSCeVrJrODNcHi3HVtnXyGokoL0F7B8ggh2/V/ESa4anp\n",
              "hLltHPQ+Tl01df5voQeghnQGDkM2TdlOLSNJhO8RpJzidQPanEL9qzdUSn6GrIhSHKLdqMFSheG0\n",
              "IGdKygW5ERBbToBZHDZjAnrZZXz/dA02+BYMfNlbEtHsSjaXrK/6Wk+dYTgSqj0eD2yetFqfgsvc\n",
              "HIfBrM7Zy229KOF3bh0TEOokbPxJiVw87PMs2LLTTAidpAKA54AAAADeQZ9sRREsO/8AAqar15up\n",
              "WgMw8MHKrNwIfA8uzeGAfn8amDnp3rJ7PnTl2eGCjNmra2r8ByQwqsPUI5mB8RzYelWl3fmFLiaO\n",
              "Jrg0K8qS0XDGMAtcZObysbYct0NDvR5zow0dGM7JNP4ESZPOuxdRwZtOi2UXt5l9m8z73NhXRPKX\n",
              "kIHzi6Fvt3MCW2m0DVJQ2niv6wOGfBFtASYExKVeAb8BH6PFyLt58tG5DZMRjfwfGxs+A3gCQdev\n",
              "2gwEwVPdbFzX7MY1x9g2Z1dXgAA5io8BdN/sBJR+3JQf6KEdAAAAjQGfi3RDfwADinvbN/b2tKOG\n",
              "/KGNmqiHggBbYoMxzC9jP6aprpDBYohgYC82kmMX/Ua354qxoluhPF5mcDRyCUu3zBaRbBYnSshv\n",
              "DswFBR00L3rZhQppPDrToI2M2cyYnI8WJfpPplG5C0TWuTYPJFf/y+urPw3Ch4MSbPZqXiJbeInC\n",
              "2KtiysFAyr8PJwAAAGwBn41qQ38AA7YTImfbmLZiAmqSUYKGz1agLCYjHRwbdivbPZGzKcwClPMU\n",
              "X34WYJneAWzjj3EstIdzL4Mcn6+v0W0T/pAbj9k/HvoOPlMMN2+7W1oManr/lwAHCMHuI54gnBI0\n",
              "dwJ50kudL0EAAAJMQZuSSahBbJlMCCP//rUqgACyk/Z5GsXFtcPVnzMEaHXfPzq01A3uzDNaJOSj\n",
              "WEbqsngWu7Vdf13hj6z3O0bKCHmN26o/6MKWow74CAHHcZHPdTpo8jDsTw3JbGmiEbIRiWHI/B7N\n",
              "3ttPykWXqzUh0UWcUjcjlhlxoHYcNKeIgfqpMqPGcnB2QYEe+gEUEPOl1GgARaHFmR5BFg/9Awhe\n",
              "CgGX22DlYQ8i+JVaJLStQHDXtDV1x/fb32vmQO6iHzxwcACvdqpWmt6ZM2X/bEqag1N6r8puM572\n",
              "ZFT7j0FCclStdGfAM7ww4YutvjuaI40ed/ZNNSChmvk1OV/3yMAYOFBCzoaZUUgCsSCBdB/zr5TD\n",
              "zpOie4n7M4IKmVYx/ifKmXnJn3dZ5Mx7iFwtC4pFARuJkhbz09OzRFvOJ7gHRMoQP8qlqhc8G/tQ\n",
              "r2PFJUm6hafNdsFnCS3v6q3EKKEYnAWjZswLPAgKd2nCzcPWTyEZMeNtMCUK6/Khsfym/4ahSjTm\n",
              "US3FO6dsg+goFWMoj08zN5b7B4/L3EbNpG62Mg+I0KHSKtS21/kf5nEBJP9/N2ksfXCcX3Ex1v/1\n",
              "o/9ljagioCvDfgifr1JIuYPowTguW8d6BkXtXtvce6/n6J7TYylpPx63E5MD39CXH03kU7H1LyRV\n",
              "AjgTrvNyoXYDmD6zbp1Qq3/DPo/51jtQLWwNLSeiyj8zAODOrNsK5mzmbCZEcapXrCvLEKDZEfdY\n",
              "DWvwuHl776/qq6QAcoCpcfhb2FPIvvlgKN6xQqS9AAAAjkGfsEUVLDv/AAK4qx4tEMyK44QmkLXn\n",
              "egA0zlhr8v3ldy3iV2qrfppJcBG1PmSSL8+z7y6wjXKOndnZ+zBfn9wSXgAAAwAADwcsQOLjmP+P\n",
              "vYMD3dwoaXrZDXKnjn8Cls6PTFofz5hGIk4FZgH4dejVQ/ef/FFNv/TQPq+MyUrse2gAAAMAAAZV\n",
              "XAyP9hkAAAB0AZ/PdEN/AAPMe9JuOXpCZhvLJWHAAFfEf4AJ3h3AaVJJ6q5zi8E7cIDoDPYJO63R\n",
              "2BAdE/GJ7p/JrnsBWzv5laA81vCSJ20QjJfd14rDz1uF/CyQSzgW/R01/4lO/IXPtsa2IUQLar0r\n",
              "vGGzLMG2QJmmGtAAAABaAZ/RakN/AAPMpOwqdNMOW5WywvD6C6rDg7VqLAEOQ9gV1Wwzy6+zx/4V\n",
              "04zzav4t9wUUWgCIriniyDAKYUPo6xojHQIGMnmATUkFmlzUW+uQeUBQQ9IUUAtfAAABvUGb1kmo\n",
              "QWyZTAgj//61KoAAspKKEkgD/mfBP1dsPJmBvQZ70N0MQ4VJjiHF/t38i+DhdrjVUxYchS5UYk4R\n",
              "Ys0JQFmt0e/0FjqCisAyrquH3z/Q3QxPCi4QofDEhY/HyWQJ7aHnNb53QBjq1fmFsK0voV3k7j90\n",
              "B5aUwkP3QLm6tuJ0f0b0fDPZ8yM9hVaInMkc6lzOQaxBGWVnO+PTBmGNjRnJqH9v1ZeiWrOQarAj\n",
              "LIBVgAjve55glTSqZPGBfHyA1tgWxZ00KZh3IJJarNezkUbiZdXjJop72vVPx1j6Y+m/Jo/OP9tM\n",
              "hPc6dqdxrmllwY31CPR7yjuTEldJeSvXt+U1vCvtBUpW0O+2kAzi9KLstfbZnJw9eqMDT3RQkufV\n",
              "uwIJg5o9KDoixlRBOUXzh1KfaiRp++ptiWR4NZ1eCHndEOxCkeiDh23zZG2QAa46D5mZoG0xG1fo\n",
              "w8II0qV+oLXTJXmsWHggXXec+pbIMD6YP2bbtqemUy4sBL8htetBhFuCpmo/nWwbCqKFQkN4S/A2\n",
              "wioL4eJQTpQEOwHfJNdIC7OAAAax8dCixPeyMiNaOdyrY+U/YoiFHXAAAACZQZ/0RRUsO/8AArih\n",
              "vVmwc2QAtgcV8w1+MtkK3/LK8ohIy+RBN01iSkBlq/ZfC7czA407niS7TbuLQDjjqM/idwJnKnnu\n",
              "1JINMPq1gAAAAwANlgTGDTKx89VR7tX9N8cPtH4ZkwLFCQdCbAd0Nef4cH7pIdmkathx61e8o5l9\n",
              "3MswjTkoeDskQg87SxlxN1mkxACMg980VwshAAAAXAGeE3RDfwADzF9w+SlyEDV6LjWhQI92MaQm\n",
              "AFtR88BEB2LHBlZvWI8IOjMjBjRTmKX/0SLLDFa5YjfhuvIkmcgT/OtXkibgzzfyon2T0Yrf8/VG\n",
              "h/+3CIHfufaBAAAAOQGeFWpDfwADy8iIsrCcx9uXq861abgJddGaHTMJt0RvFhJ15qnlbk0AoNC5\n",
              "etkXylnl1SU1Cl4ExAAAAehBmhpJqEFsmUwII//+tSqAALJz46AXAG8honMAvwuV/O0A5FAW98zm\n",
              "IFCxybrSTJ7zv25p2Prc+Vpr3MIrKd4FZjp+TuNPZIXJ+G7Tp2wT+dqN2EbbX1KJ1gglD3RP9l17\n",
              "68SEIWca5T0XWCfFBMLw7Unmov2Rkd1Is8eAXYOgWNgqFOIHqhmyHD2n0RM8xCP1Lt7DlWPIEMpJ\n",
              "MIqLwnMVAFMpPKtUxvlPQNhPKzBTLYyGsE/a/CQaPketUXxgZUPoLL8xx6Ny8UkJkBhAevkstX8d\n",
              "sM1d0H4gT5TaWsFHbs8axR26kcknjNr8lWxu1azIK6SvC2FFMeW4GuiGt2lAfoT0JI2WE55HeQri\n",
              "z8BFtYgbak2z8D4A3wIYokY9sAD2CrKlsDMh5X6vzUrsrye0gbM8DDRUKFaGYbDwJ9UW5WKnoM09\n",
              "W2wJSbmQISg2xEAsV2r9J7GdcoUa9MBPuSTzK+flb85H1w1BUkBjJKlb6xctjEBbG6EBE+e7xs9X\n",
              "QxHaiHdZIOQdIhJIm6KwQ/8sD0AhCzx8J1dtD/17S75QWyZHQjvpesvUp5zxyqX7hVat3uSfFRki\n",
              "b1MSiCPi8EeUichQ/5o67mz+IBCXxsNnWSimcgZha0/CYPziJk+AWd10XD47r+b6YQAAAFJBnjhF\n",
              "FSw7/wACuKQdmgYPOokdfWgBauAYPp9tFi8V+NpUbnEDWmCKKPbVAW5FdfvoanUuPpXmnj+dDKDA\n",
              "AR9JegI4alb4Y7IIZQiDS9slOtvHAAAALAGeV3RDfwAHQPld19PTMegX5HZAtOyjfEbomYfOxlBl\n",
              "Ct+7q73z9rde/FNAAAAAKAGeWWpDfwAHP7hOLN2a90TjLPWTg1ceX8OtSY/ZJ6WjAXpRioXmN1EA\n",
              "AAFbQZpeSahBbJlMCCP//rUqgACykPo81WsAOlep8c6P9usJuBKZ46+Ei0DkSUq7PwS37f9bhZcY\n",
              "AWMQiUQFHv+f2pajKNmbJWGqw5oj1b6dOlHm34vAnCcNqQIEYRVTOTo3M+/CbzmrvkH3IMeYeh8i\n",
              "qzrGg5D2Hvmtb/ReWX20wCCRlUP1wM3NiVS4WuJXkJlJMjy2H80ivj7qBLb87gv9Ma9LxvaTRFEk\n",
              "oCw4zv5fvJqgWGBU3KJP7FqByEi9k18k9bBX+zcRFyrnX3ZoTozSEBWBQsSSPO0IRNi2DqWWqqcB\n",
              "6n34ijxV9p6yIogQjBePqR/PFWnsAsp6hy22EgmcmLsR6sFA/kcHkwVyhGSzrDZg3PEijmv8HS63\n",
              "HZpYJvvvJOL/GUWcC4vqw6shIt8mlGdq4dFxXK2rxfnzp3MPzSQDgxR29y7io16wBATGUhZ5jyU7\n",
              "UBsONlDme8AAAAAyQZ58RRUsO/8AAqX4+58TjdznG2UyZ7fut9HMkNz0ViA/kIhzQNcJBWJ2q/+K\n",
              "ml+0C7EAAAAiAZ6bdEN/AANL1ieJBG3Ni1IDG1GJUkiORSHC+2OQkntw8QAAABwBnp1qQ38AA0xd\n",
              "ox6dKRit8j/xPbBdCYQwoN1tAAAAxkGagkmoQWyZTAgj//61KoAAsoaCEA2/C5MPbVUJIxPB712W\n",
              "lFf/+Y4HVcHME/FYvnwZodlV4eTmeajtFwxvTClips4yBcuadsXl6dL5K/33aWBfl9tSTBU2OgDp\n",
              "EbrJgiTPCMXAKwi918R2JDJg+U0xwOKUKGYvyQPSfF+to2afID2TJYPqTjqrXYZew1SAeBA4ROlt\n",
              "klpPKbXo45OHdqjLDKxtWwoL65qKyN5JCCpM8WPVcKxey4VAc4ogFpeUGyr0o4S6sAAAACJBnqBF\n",
              "FSw7/wACUUqNdNfmRdUX/NZaAuGFpNgmBDNgVPTdAAAAHQGe33RDfwADS9YniHMv0LWKEUj/oB5m\n",
              "+DmAQKKgAAAAHAGewWpDfwADTF2jHp0pGK4STKcrMwzCecgCqYEAAABQQZrGSahBbJlMCCP//rUq\n",
              "gACu0tN/UARbDQ8jeogQBVxDtEOyqWsCtV84kh0quLqRKRTZM0ESQwGthkmGaXm0Q5pb3gzzR/sc\n",
              "br7BmdXXyYAAAAArQZ7kRRUsO/8AAlFKjXTXyIaVQUeUqLgFrrMWLPPEtlrRpTeSc40PHcRDQQAA\n",
              "AB0BnwN0Q38AA0vWJ4kEbc2L9GHbTPHHT3l/l37tgQAAAB0BnwVqQ38AA0xdox6dKRiuFRhwkTvI\n",
              "+N8mh0DPGQAAACZBmwpJqEFsmUwIIf/+qlUAAUn2CAAFRWUj1mbcZLkn8/PrhI6VwQAAACZBnyhF\n",
              "FSw7/wACUUqNdNfmRdUYBF5lTpoKtjRNzLnRO1QDm0NKjgAAAB0Bn0d0Q38AA0vWJ4kEbc2L9GHb\n",
              "TPHHT3l/l37tgAAAAB4Bn0lqQ38AA0xdox6dKRiuFRhwkTvI+N8mh0EFRmEAAAAfQZtOSahBbJlM\n",
              "CH///qmWAAEgotXWyfzMM2zCJQs3QAAAACZBn2xFFSw7/wACUUqNdNfmRdUYBF5lTpoKtjRNzLnR\n",
              "O1QFfJ03JAAAAB0Bn4t0Q38AA0vWJ4kEbc2L9GHbTPHHT3l/l4IaiwAAABoBn41qQ38AA0xdox6d\n",
              "KRiuFRhwkTvI+N8HzQAAABRBm5FJqEFsmUwIb//+p4QAAAMB3QAAACNBn69FFSw3/wADTKa78B0V\n",
              "o9mh6MLEYiSP9X5GfOOneq56QAAAABoBn9BqQ38AA0xdox6dKRiuFRhwkTvI+N8HzAAABT5tb292\n",
              "AAAAbG12aGQAAAAAAAAAAAAAAAAAAAPoAAATiAABAAABAAAAAAAAAAAAAAAAAQAAAAAAAAAAAAAA\n",
              "AAAAAAEAAAAAAAAAAAAAAAAAAEAAAAAAAAAAAAAAAAAAAAAAAAAAAAAAAAAAAAAAAAACAAAEaHRy\n",
              "YWsAAABcdGtoZAAAAAMAAAAAAAAAAAAAAAEAAAAAAAATiAAAAAAAAAAAAAAAAAAAAAAAAQAAAAAA\n",
              "AAAAAAAAAAAAAAEAAAAAAAAAAAAAAAAAAEAAAAABsAAAASAAAAAAACRlZHRzAAAAHGVsc3QAAAAA\n",
              "AAAAAQAAE4gAAAgAAAEAAAAAA+BtZGlhAAAAIG1kaGQAAAAAAAAAAAAAAAAAACgAAADIAFXEAAAA\n",
              "AAAtaGRscgAAAAAAAAAAdmlkZQAAAAAAAAAAAAAAAFZpZGVvSGFuZGxlcgAAAAOLbWluZgAAABR2\n",
              "bWhkAAAAAQAAAAAAAAAAAAAAJGRpbmYAAAAcZHJlZgAAAAAAAAABAAAADHVybCAAAAABAAADS3N0\n",
              "YmwAAACzc3RzZAAAAAAAAAABAAAAo2F2YzEAAAAAAAAAAQAAAAAAAAAAAAAAAAAAAAABsAEgAEgA\n",
              "AABIAAAAAAAAAAEAAAAAAAAAAAAAAAAAAAAAAAAAAAAAAAAAAAAAAAAAAAAY//8AAAAxYXZjQwFk\n",
              "ABX/4QAYZ2QAFazZQbCWhAAAAwAEAAADAFA8WLZYAQAGaOvjyyLAAAAAHHV1aWRraEDyXyRPxbo5\n",
              "pRvPAyPzAAAAAAAAABhzdHRzAAAAAAAAAAEAAAAyAAAEAAAAABRzdHNzAAAAAAAAAAEAAAABAAAB\n",
              "WGN0dHMAAAAAAAAAKQAAAAgAAAgAAAAAAQAAEAAAAAACAAAEAAAAAAEAABQAAAAAAQAACAAAAAAB\n",
              "AAAAAAAAAAEAAAQAAAAAAQAAFAAAAAABAAAIAAAAAAEAAAAAAAAAAQAABAAAAAABAAAUAAAAAAEA\n",
              "AAgAAAAAAQAAAAAAAAABAAAEAAAAAAEAABQAAAAAAQAACAAAAAABAAAAAAAAAAEAAAQAAAAAAQAA\n",
              "FAAAAAABAAAIAAAAAAEAAAAAAAAAAQAABAAAAAABAAAUAAAAAAEAAAgAAAAAAQAAAAAAAAABAAAE\n",
              "AAAAAAEAABQAAAAAAQAACAAAAAABAAAAAAAAAAEAAAQAAAAAAQAAFAAAAAABAAAIAAAAAAEAAAAA\n",
              "AAAAAQAABAAAAAABAAAUAAAAAAEAAAgAAAAAAQAAAAAAAAABAAAEAAAAAAEAABAAAAAAAgAABAAA\n",
              "AAAcc3RzYwAAAAAAAAABAAAAAQAAADIAAAABAAAA3HN0c3oAAAAAAAAAAAAAADIAAAqpAAABWgAA\n",
              "AnoAAAJxAAADxAAABA8AAAOMAAADZQAAA+oAAADsAAAA3wAAA1IAAADiAAAAkQAAAHAAAAJQAAAA\n",
              "kgAAAHgAAABeAAABwQAAAJ0AAABgAAAAPQAAAewAAABWAAAAMAAAACwAAAFfAAAANgAAACYAAAAg\n",
              "AAAAygAAACYAAAAhAAAAIAAAAFQAAAAvAAAAIQAAACEAAAAqAAAAKgAAACEAAAAiAAAAIwAAACoA\n",
              "AAAhAAAAHgAAABgAAAAnAAAAHgAAABRzdGNvAAAAAAAAAAEAAAAsAAAAYnVkdGEAAABabWV0YQAA\n",
              "AAAAAAAhaGRscgAAAAAAAAAAbWRpcmFwcGwAAAAAAAAAAAAAAAAtaWxzdAAAACWpdG9vAAAAHWRh\n",
              "dGEAAAABAAAAAExhdmY1Ny44My4xMDA=\n",
              "\">\n",
              "  Your browser does not support the video tag.\n",
              "</video>"
            ],
            "text/plain": [
              "<IPython.core.display.HTML object>"
            ]
          },
          "metadata": {},
          "execution_count": 7
        },
        {
          "output_type": "display_data",
          "data": {
            "image/png": "[encoded data removed]",
            "text/plain": [
              "<Figure size 432x288 with 1 Axes>"
            ]
          },
          "metadata": {
            "needs_background": "light"
          }
        }
      ]
    },
    {
      "cell_type": "code",
      "metadata": {
        "colab": {
          "base_uri": "https://localhost:8080/",
          "height": 295
        },
        "id": "65e17a28",
        "outputId": "a125834b-bf35-4ae8-f3f9-283fe1e357ab"
      },
      "source": [
        "# Plot p of a given point in x\n",
        "\n",
        "location_in_x = 200\n",
        "\n",
        "plt.figure()\n",
        "plt.plot(solution[:,location_in_x])\n",
        "plt.title(f'peat height at position {location_in_x} over time')\n",
        "plt.ylabel('peat height')\n",
        "plt.xlabel('time')\n",
        "plt.show()\n"
      ],
      "id": "65e17a28",
      "execution_count": 8,
      "outputs": [
        {
          "output_type": "display_data",
          "data": {
            "image/png": "[encoded data removed]",
            "text/plain": [
              "<Figure size 432x288 with 1 Axes>"
            ]
          },
          "metadata": {
            "needs_background": "light"
          }
        }
      ]
    },
    {
      "cell_type": "code",
      "metadata": {
        "id": "0cb94bf5"
      },
      "source": [
        "\n"
      ],
      "id": "0cb94bf5",
      "execution_count": 8,
      "outputs": []
    },
    {
      "cell_type": "markdown",
      "metadata": {
        "id": "IH3ffWs9yFtc"
      },
      "source": [
        "# 2D Numerics"
      ],
      "id": "IH3ffWs9yFtc"
    },
    {
      "cell_type": "code",
      "metadata": {
        "id": "x01I1yBsZS-S"
      },
      "source": [
        "# Page 175 in Langtangen's book. Follow that!\n",
        "\n",
        "\n",
        "def advance_vectorized(u, u_n, u_nm1, f_a, Cx2, Cy2, dt2,\n",
        "    V=None, step1=False):\n",
        "    if step1:\n",
        "        dt = np.sqrt(dt2) # save\n",
        "        Cx2 = 0.5*Cx2; Cy2 = 0.5*Cy2; dt2 = 0.5*dt2 # redefine\n",
        "        D1 = 1; D2 = 0\n",
        "    else:\n",
        "        D1 = 2; D2 = 1\n",
        "        u_xx = u_n[:-2,1:-1] - 2*u_n[1:-1,1:-1] + u_n[2:,1:-1]\n",
        "        u_yy = u_n[1:-1,:-2] - 2*u_n[1:-1,1:-1] + u_n[1:-1,2:]\n",
        "        u[1:-1,1:-1] = (D1*u_n[1:-1,1:-1] - D2*u_nm1[1:-1,1:-1] + \n",
        "            Cx2*u_xx + Cy2*u_yy + dt2*f_a[1:-1,1:-1])\n",
        "    if step1:\n",
        "        u[1:-1,1:-1] += dt*V[1:-1, 1:-1]\n",
        "    # Boundary condition u=0\n",
        "    u[:,0] = 0\n",
        "    u[:,u.shape[1]-1] = 0\n",
        "    u[0,:] = 0\n",
        "    u[u.shape[0]-1,:] = 0\n",
        "    \n",
        "    return u\n",
        "\n",
        "def run_all_timesteps_2D(u_new, u, u_old):\n",
        "    solution = np.zeros(shape=(MAX_NITER, u.shape[0], u.shape[1]))\n",
        "    solution[0] = u\n",
        "    for niter in range(1, MAX_NITER):\n",
        "        \n",
        "        #solve\n",
        "        u_new = advance_vectorized(u=u_new, u_n=u, u_nm1=u_old, f_a=f_ext,\n",
        "                                   Cx2=c_squared*(dx/dt)**2, Cy2=c_squared*(dy/dt)**2,\n",
        "                                   dt2=dt**2)\n",
        "        solution[niter] = u_new\n",
        "        \n",
        "        u_old = u.copy()\n",
        "        u = u_new.copy()\n",
        "        \n",
        "    return solution  \n",
        "\n",
        "# Parameters\n",
        "dx = 1. # m\n",
        "dy = 1. #m\n",
        "dt = 10\n",
        "\n",
        "Lx = 1000 # m\n",
        "Ly = Lx\n",
        "MAX_NITER = int(100)\n",
        "grid_length_x = int(Lx/dx)\n",
        "grid_length_y = int(Ly/dy)\n",
        "simulated_time = int(dt*MAX_NITER)\n",
        "\n",
        "# 2D Mesh\n",
        "x = np.linspace(0, Lx-1, grid_length_x)\n",
        "y = np.linspace(0, Ly-1, grid_length_y)\n",
        "xv = x.reshape((x.size,1))\n",
        "yv = y.reshape((1, y.size))\n",
        "\n",
        "b = 0.001 # friction term\n",
        "c_squared = 1.0 # coefficient of wave\n",
        "f_ext = 0.000001 + 0*xv*yv # external force\n",
        "\n",
        "\n",
        "# Initial values\n",
        "u_new = 0 * xv*yv # u at time n+1\n",
        "u = 0 * xv*yv # u at time n\n",
        "u_old = 0 * xv*yv # u at time n-1\n",
        "\n",
        "\n"
      ],
      "id": "x01I1yBsZS-S",
      "execution_count": 11,
      "outputs": []
    },
    {
      "cell_type": "code",
      "metadata": {
        "id": "dOGCHUm60fcW"
      },
      "source": [
        "# Run 2D\n",
        "solution_2D = run_all_timesteps_2D(u_new=u_new, u=u, u_old=u_old)\n",
        "\n"
      ],
      "id": "dOGCHUm60fcW",
      "execution_count": 12,
      "outputs": []
    },
    {
      "cell_type": "code",
      "metadata": {
        "colab": {
          "base_uri": "https://localhost:8080/"
        },
        "id": "muJqnAV8pRCs",
        "outputId": "1aaf4031-963c-4948-b273-f86ed920a8d5"
      },
      "source": [
        "# Plot with matplotlib\n",
        "# It is very slow. I tried to use Mayavi, but I couldn't install it in Colab\n",
        "from mpl_toolkits import mplot3d\n",
        "\n",
        "fig = plt.figure()\n",
        "ax = plt.axes(projection='3d')\n",
        "\n",
        "X, Y = np.meshgrid(x,y)\n",
        "\n",
        "ax.plot_surface(X=X, Y=Y, Z=solution_2D[50], rstride=1, cstride=1,\n",
        "                cmap='viridis', edgecolor='none')\n",
        "ax.set_title('surface')"
      ],
      "id": "muJqnAV8pRCs",
      "execution_count": null,
      "outputs": [
        {
          "output_type": "execute_result",
          "data": {
            "text/plain": [
              "Text(0.5, 0.92, 'surface')"
            ]
          },
          "metadata": {},
          "execution_count": 26
        }
      ]
    },
    {
      "cell_type": "code",
      "metadata": {
        "id": "s8YtELAVneRo"
      },
      "source": [
        ""
      ],
      "id": "s8YtELAVneRo",
      "execution_count": 23,
      "outputs": []
    },
    {
      "cell_type": "code",
      "metadata": {
        "colab": {
          "base_uri": "https://localhost:8080/"
        },
        "id": "m78ULSpgsBwZ",
        "outputId": "0e47db3a-1c6e-4972-fcab-782b7c32d837"
      },
      "source": [
        "X"
      ],
      "id": "m78ULSpgsBwZ",
      "execution_count": 24,
      "outputs": [
        {
          "output_type": "execute_result",
          "data": {
            "text/plain": [
              "array([[  0.,   1.,   2., ..., 997., 998., 999.],\n",
              "       [  0.,   1.,   2., ..., 997., 998., 999.],\n",
              "       [  0.,   1.,   2., ..., 997., 998., 999.],\n",
              "       ...,\n",
              "       [  0.,   1.,   2., ..., 997., 998., 999.],\n",
              "       [  0.,   1.,   2., ..., 997., 998., 999.],\n",
              "       [  0.,   1.,   2., ..., 997., 998., 999.]])"
            ]
          },
          "metadata": {},
          "execution_count": 24
        }
      ]
    },
    {
      "cell_type": "code",
      "metadata": {
        "id": "F90asw1msCcA"
      },
      "source": [
        ""
      ],
      "id": "F90asw1msCcA",
      "execution_count": null,
      "outputs": []
    }
  ]
}